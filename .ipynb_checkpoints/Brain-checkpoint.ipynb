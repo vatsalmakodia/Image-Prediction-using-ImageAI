{
 "cells": [
  {
   "cell_type": "code",
   "execution_count": 5,
   "id": "b49bb63f",
   "metadata": {},
   "outputs": [
    {
     "name": "stdout",
     "output_type": "stream",
     "text": [
      "leopard  :  25.443372130393982\n",
      "cheetah  :  22.707176208496094\n",
      "jaguar  :  17.515280842781067\n",
      "German_short-haired_pointer  :  5.718052759766579\n",
      "banded_gecko  :  2.898821234703064\n"
     ]
    }
   ],
   "source": [
    "from imageai.Prediction import ImagePrediction\n",
    "import os\n",
    "\n",
    "execution_path = os.getcwd()\n",
    "\n",
    "prediction = ImagePrediction()\n",
    "prediction.setModelTypeAsDenseNet121()\n",
    "prediction.setModelPath(os.path.join(execution_path, \"DenseNet-BC-121-32.h5\"))\n",
    "prediction.loadModel()\n",
    "\n",
    "predictions, probabilities = prediction.classifyImage(os.path.join(execution_path, \"car.jpg\"), result_count=5 )\n",
    "for eachPrediction, eachProbability in zip(predictions, probabilities):\n",
    "    print(eachPrediction , \" : \" , eachProbability)"
   ]
  },
  {
   "cell_type": "code",
   "execution_count": null,
   "id": "dafc41aa",
   "metadata": {},
   "outputs": [],
   "source": []
  }
 ],
 "metadata": {
  "kernelspec": {
   "display_name": "Python3.7.6Test",
   "language": "python",
   "name": "python3.7.6test"
  },
  "language_info": {
   "codemirror_mode": {
    "name": "ipython",
    "version": 3
   },
   "file_extension": ".py",
   "mimetype": "text/x-python",
   "name": "python",
   "nbconvert_exporter": "python",
   "pygments_lexer": "ipython3",
   "version": "3.7.6"
  }
 },
 "nbformat": 4,
 "nbformat_minor": 5
}
