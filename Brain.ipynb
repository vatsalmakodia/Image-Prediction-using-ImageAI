{
 "cells": [
  {
   "cell_type": "code",
   "execution_count": 6,
   "id": "b49bb63f",
   "metadata": {},
   "outputs": [
    {
     "name": "stdout",
     "output_type": "stream",
     "text": [
      "WARNING:tensorflow:5 out of the last 5 calls to <function Model.make_predict_function.<locals>.predict_function at 0x000001D7AF0B01F8> triggered tf.function retracing. Tracing is expensive and the excessive number of tracings could be due to (1) creating @tf.function repeatedly in a loop, (2) passing tensors with different shapes, (3) passing Python objects instead of tensors. For (1), please define your @tf.function outside of the loop. For (2), @tf.function has experimental_relax_shapes=True option that relaxes argument shapes that can avoid unnecessary retracing. For (3), please refer to https://www.tensorflow.org/guide/function#controlling_retracing and https://www.tensorflow.org/api_docs/python/tf/function for  more details.\n",
      "minivan  :  60.76391339302063\n",
      "sports_car  :  19.294284284114838\n",
      "beach_wagon  :  6.1258215457201\n",
      "car_wheel  :  6.001868471503258\n",
      "racer  :  4.7720275819301605\n"
     ]
    }
   ],
   "source": [
    "from imageai.Prediction import ImagePrediction\n",
    "import os\n",
    "\n",
    "execution_path = os.getcwd()\n",
    "\n",
    "prediction = ImagePrediction()\n",
    "prediction.setModelTypeAsDenseNet121()\n",
    "prediction.setModelPath(os.path.join(execution_path, \"DenseNet-BC-121-32.h5\"))\n",
    "prediction.loadModel()\n",
    "\n",
    "predictions, probabilities = prediction.classifyImage(os.path.join(execution_path, \"car.jpg\"), result_count=5 )\n",
    "for eachPrediction, eachProbability in zip(predictions, probabilities):\n",
    "    print(eachPrediction , \" : \" , eachProbability)"
   ]
  },
  {
   "cell_type": "code",
   "execution_count": null,
   "id": "dafc41aa",
   "metadata": {},
   "outputs": [],
   "source": []
  }
 ],
 "metadata": {
  "kernelspec": {
   "display_name": "Python3.7.6Test",
   "language": "python",
   "name": "python3.7.6test"
  },
  "language_info": {
   "codemirror_mode": {
    "name": "ipython",
    "version": 3
   },
   "file_extension": ".py",
   "mimetype": "text/x-python",
   "name": "python",
   "nbconvert_exporter": "python",
   "pygments_lexer": "ipython3",
   "version": "3.7.6"
  }
 },
 "nbformat": 4,
 "nbformat_minor": 5
}
